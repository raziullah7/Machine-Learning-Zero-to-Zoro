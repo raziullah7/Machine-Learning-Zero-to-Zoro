{
 "cells": [
  {
   "cell_type": "markdown",
   "source": [
    "# Data Preprocessing"
   ],
   "metadata": {
    "collapsed": false
   },
   "id": "c8c4cb517bf71872"
  },
  {
   "cell_type": "markdown",
   "source": [
    "Importing the libraries"
   ],
   "metadata": {
    "collapsed": false
   },
   "id": "ec77892d4a122d64"
  },
  {
   "cell_type": "code",
   "execution_count": 81,
   "id": "initial_id",
   "metadata": {
    "collapsed": true,
    "ExecuteTime": {
     "end_time": "2024-02-18T20:39:28.438082800Z",
     "start_time": "2024-02-18T20:39:28.407127200Z"
    }
   },
   "outputs": [],
   "source": [
    "import numpy as np\n",
    "import matplotlib.pyplot as plt\n",
    "import pandas as pd"
   ]
  },
  {
   "cell_type": "markdown",
   "source": [
    "Importing the dataset"
   ],
   "metadata": {
    "collapsed": false
   },
   "id": "dd63d53df1400e4d"
  },
  {
   "cell_type": "code",
   "outputs": [],
   "source": [
    "dataset = pd.read_csv('Salary_Data.csv')\n",
    "X = dataset.iloc[:, :-1].values\n",
    "y = dataset.iloc[:, -1].values"
   ],
   "metadata": {
    "collapsed": false,
    "ExecuteTime": {
     "end_time": "2024-02-18T20:39:28.439551700Z",
     "start_time": "2024-02-18T20:39:28.426357400Z"
    }
   },
   "id": "771939088304a7e7",
   "execution_count": 82
  },
  {
   "cell_type": "markdown",
   "source": [
    "Splitting the dataset into the Training set and Test set"
   ],
   "metadata": {
    "collapsed": false
   },
   "id": "6c1afef370164cde"
  },
  {
   "cell_type": "code",
   "outputs": [],
   "source": [
    "from sklearn.model_selection import train_test_split\n",
    "X_train, X_test, y_train, y_test = train_test_split(X, y, test_size = 0.2, random_state = 0)"
   ],
   "metadata": {
    "collapsed": false,
    "ExecuteTime": {
     "end_time": "2024-02-18T20:39:28.480265200Z",
     "start_time": "2024-02-18T20:39:28.444040Z"
    }
   },
   "id": "51d46c51cf7cde36",
   "execution_count": 83
  },
  {
   "cell_type": "markdown",
   "source": [
    "**Why not apply feature scaling to the current dataset?**\n",
    "Basically, in salary data .csv have only two columns one is dependent and other one is independent or target we use features scaling if we have two or more independent features and moreover the scaling between each feature have to be more different like if a feature scale between 0 - 10 and other feature scale between 0 - 10,000 then the machine may not consider that smallest as it is negligible when compared to other to avoid that we apply feature scaling to take all the features to one scale"
   ],
   "metadata": {
    "collapsed": false
   },
   "id": "319fe7fc40f1e91f"
  },
  {
   "cell_type": "markdown",
   "source": [
    "# Simple Linear Regression"
   ],
   "metadata": {
    "collapsed": false
   },
   "id": "8bba24d75fa08a1e"
  },
  {
   "cell_type": "markdown",
   "source": [
    "Training the Simple Linear Regression model on the Training set"
   ],
   "metadata": {
    "collapsed": false
   },
   "id": "a9fc1ae96d6a9145"
  },
  {
   "cell_type": "code",
   "outputs": [
    {
     "data": {
      "text/plain": "{'copy_X': True, 'fit_intercept': True, 'n_jobs': None, 'positive': False}"
     },
     "execution_count": 84,
     "metadata": {},
     "output_type": "execute_result"
    }
   ],
   "source": [
    "from sklearn.linear_model import LinearRegression\n",
    "regressor = LinearRegression()\n",
    "regressor.fit(X_train, y_train)\n",
    "regressor.get_params()"
   ],
   "metadata": {
    "collapsed": false,
    "ExecuteTime": {
     "end_time": "2024-02-18T20:39:28.481526900Z",
     "start_time": "2024-02-18T20:39:28.455430600Z"
    }
   },
   "id": "1dbdea3cb7211cdb",
   "execution_count": 84
  },
  {
   "cell_type": "markdown",
   "source": [
    "Predicting the Test set results"
   ],
   "metadata": {
    "collapsed": false
   },
   "id": "5148728eb6232609"
  },
  {
   "cell_type": "code",
   "outputs": [
    {
     "data": {
      "text/plain": "array([ 40748.96184072, 122699.62295594,  64961.65717022,  63099.14214487,\n       115249.56285456, 107799.50275317])"
     },
     "execution_count": 85,
     "metadata": {},
     "output_type": "execute_result"
    }
   ],
   "source": [
    "# regressor.predict(X_test)\n",
    "y_pred = regressor.predict(X_test)\n",
    "print(y_pred)"
   ],
   "metadata": {
    "collapsed": false,
    "ExecuteTime": {
     "end_time": "2024-02-18T20:39:28.482603500Z",
     "start_time": "2024-02-18T20:39:28.464541Z"
    }
   },
   "id": "c3c389f6d0808cd4",
   "execution_count": 85
  }
 ],
 "metadata": {
  "kernelspec": {
   "display_name": "Python 3",
   "language": "python",
   "name": "python3"
  },
  "language_info": {
   "codemirror_mode": {
    "name": "ipython",
    "version": 2
   },
   "file_extension": ".py",
   "mimetype": "text/x-python",
   "name": "python",
   "nbconvert_exporter": "python",
   "pygments_lexer": "ipython2",
   "version": "2.7.6"
  }
 },
 "nbformat": 4,
 "nbformat_minor": 5
}
