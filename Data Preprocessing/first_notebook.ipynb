{
 "cells": [
  {
   "cell_type": "markdown",
   "id": "f1ddf1e124503271",
   "metadata": {
    "collapsed": false
   },
   "source": [
    "# DATA PREPROCESSING"
   ]
  },
  {
   "cell_type": "markdown",
   "id": "92824f2b58161896",
   "metadata": {
    "collapsed": false
   },
   "source": [
    "*Importing The Libraries*"
   ]
  },
  {
   "cell_type": "code",
   "execution_count": 1,
   "id": "initial_id",
   "metadata": {
    "collapsed": true,
    "ExecuteTime": {
     "end_time": "2024-02-14T15:16:58.176105500Z",
     "start_time": "2024-02-14T15:16:55.576275800Z"
    }
   },
   "outputs": [],
   "source": [
    "import numpy as np\n",
    "import matplotlib.pyplot as plt\n",
    "import pandas as pd"
   ]
  },
  {
   "cell_type": "markdown",
   "id": "6bad1d502ae27471",
   "metadata": {
    "collapsed": false
   },
   "source": [
    "*Importing The Dataset*"
   ]
  },
  {
   "cell_type": "code",
   "execution_count": 2,
   "id": "ffa73d2a542b9862",
   "metadata": {
    "collapsed": false,
    "ExecuteTime": {
     "end_time": "2024-02-14T15:16:58.257098Z",
     "start_time": "2024-02-14T15:16:58.176105500Z"
    }
   },
   "outputs": [],
   "source": [
    "dataset = pd.read_csv('Data.csv')\n",
    "# X is the independent variable dataset (feature set)\n",
    "# matrix of features X\n",
    "# iloc means locate indexes, it will take the indexes of rows and columns you want to add\n",
    "# iloc[range of rows, range of columns]\n",
    "# range X:y means [X, y) => X is included, y is excluded\n",
    "X = dataset.iloc[:, :-1].values\n",
    "# dependent variable vector, -1 is the last column\n",
    "y = dataset.iloc[:, -1].values"
   ]
  },
  {
   "cell_type": "code",
   "execution_count": 3,
   "id": "3e92b5c080713d70",
   "metadata": {
    "collapsed": false,
    "ExecuteTime": {
     "end_time": "2024-02-14T15:16:58.270806300Z",
     "start_time": "2024-02-14T15:16:58.259336200Z"
    }
   },
   "outputs": [
    {
     "name": "stdout",
     "output_type": "stream",
     "text": [
      "[['France' 44.0 72000.0]\n",
      " ['Spain' 27.0 48000.0]\n",
      " ['Germany' 30.0 54000.0]\n",
      " ['Spain' 38.0 61000.0]\n",
      " ['Germany' 40.0 nan]\n",
      " ['France' 35.0 58000.0]\n",
      " ['Spain' nan 52000.0]\n",
      " ['France' 48.0 79000.0]\n",
      " ['Germany' 50.0 83000.0]\n",
      " ['France' 37.0 67000.0]]\n"
     ]
    }
   ],
   "source": [
    "print(X)"
   ]
  },
  {
   "cell_type": "code",
   "execution_count": 4,
   "id": "6e6aae7220e67a64",
   "metadata": {
    "collapsed": false,
    "ExecuteTime": {
     "end_time": "2024-02-14T15:16:58.274100900Z",
     "start_time": "2024-02-14T15:16:58.270806300Z"
    }
   },
   "outputs": [
    {
     "name": "stdout",
     "output_type": "stream",
     "text": [
      "['No' 'Yes' 'No' 'No' 'Yes' 'Yes' 'No' 'Yes' 'No' 'Yes']\n"
     ]
    }
   ],
   "source": [
    "print(y)"
   ]
  },
  {
   "cell_type": "markdown",
   "id": "68ee21c7194d45be",
   "metadata": {
    "collapsed": false
   },
   "source": [
    "*Taking Care of Missing Data*"
   ]
  },
  {
   "cell_type": "code",
   "execution_count": 5,
   "id": "4fcac104df61da2",
   "metadata": {
    "collapsed": false,
    "ExecuteTime": {
     "end_time": "2024-02-14T15:17:02.387183900Z",
     "start_time": "2024-02-14T15:16:58.280605200Z"
    }
   },
   "outputs": [],
   "source": [
    "from sklearn.impute import SimpleImputer\n",
    "# making an object of the SimpleImputer class\n",
    "# passing the missing_values and strategy as arguments to SimpleImputer object\n",
    "# np.nan means that we want to replace missing values\n",
    "imputer = SimpleImputer(missing_values=np.nan, strategy='mean')\n",
    "# applying the imputer on the matrix of features (independent variables)\n",
    "# fit() method expects all the numerical columns of the features x\n",
    "# this connects our imputer with the matrix of features\n",
    "imputer.fit(X[:, 1:3])\n",
    "X[:, 1:3] = imputer.transform(X[:, 1:3])"
   ]
  },
  {
   "cell_type": "code",
   "execution_count": 6,
   "id": "b2fe268bf618261b",
   "metadata": {
    "collapsed": false,
    "ExecuteTime": {
     "end_time": "2024-02-14T15:17:02.399761500Z",
     "start_time": "2024-02-14T15:17:02.393256600Z"
    }
   },
   "outputs": [
    {
     "name": "stdout",
     "output_type": "stream",
     "text": [
      "[['France' 44.0 72000.0]\n",
      " ['Spain' 27.0 48000.0]\n",
      " ['Germany' 30.0 54000.0]\n",
      " ['Spain' 38.0 61000.0]\n",
      " ['Germany' 40.0 63777.77777777778]\n",
      " ['France' 35.0 58000.0]\n",
      " ['Spain' 38.77777777777778 52000.0]\n",
      " ['France' 48.0 79000.0]\n",
      " ['Germany' 50.0 83000.0]\n",
      " ['France' 37.0 67000.0]]\n"
     ]
    }
   ],
   "source": [
    "print(X)"
   ]
  },
  {
   "cell_type": "markdown",
   "id": "e15348f1001e089e",
   "metadata": {
    "collapsed": false
   },
   "source": [
    "# ENCODING CATEGORICAL DATA"
   ]
  },
  {
   "cell_type": "markdown",
   "id": "b8d421f28722c945",
   "metadata": {
    "collapsed": false
   },
   "source": [
    "*Encoding the Independent Variable*"
   ]
  },
  {
   "cell_type": "code",
   "execution_count": 7,
   "id": "548ddd44789c8474",
   "metadata": {
    "collapsed": false,
    "ExecuteTime": {
     "end_time": "2024-02-14T15:17:02.472793200Z",
     "start_time": "2024-02-14T15:17:02.400762300Z"
    }
   },
   "outputs": [],
   "source": [
    "from sklearn.compose import ColumnTransformer\n",
    "from sklearn.preprocessing import OneHotEncoder\n",
    "\n",
    "# create an obj of ColumnTransformer, which take 2 arguments\n",
    "# argument1 defines what kind of transformation should take place\n",
    "# argument2 defines that we want to keep the columns, which weren't used\n",
    "ct = ColumnTransformer(transformers=[('encoder', OneHotEncoder(), [0])], remainder='passthrough')\n",
    "\n",
    "# now connecting the transformer object with the data matrix\n",
    "# can do it in 1 step using the fit_transform() method\n",
    "# using the np.array() method to convert output to numpy array\n",
    "X = np.array(ct.fit_transform(X))"
   ]
  },
  {
   "cell_type": "code",
   "execution_count": 8,
   "id": "b32a4f5c61e2dbb7",
   "metadata": {
    "collapsed": false,
    "ExecuteTime": {
     "end_time": "2024-02-14T15:17:02.475350100Z",
     "start_time": "2024-02-14T15:17:02.421991100Z"
    }
   },
   "outputs": [
    {
     "name": "stdout",
     "output_type": "stream",
     "text": [
      "[[1.0 0.0 0.0 44.0 72000.0]\n",
      " [0.0 0.0 1.0 27.0 48000.0]\n",
      " [0.0 1.0 0.0 30.0 54000.0]\n",
      " [0.0 0.0 1.0 38.0 61000.0]\n",
      " [0.0 1.0 0.0 40.0 63777.77777777778]\n",
      " [1.0 0.0 0.0 35.0 58000.0]\n",
      " [0.0 0.0 1.0 38.77777777777778 52000.0]\n",
      " [1.0 0.0 0.0 48.0 79000.0]\n",
      " [0.0 1.0 0.0 50.0 83000.0]\n",
      " [1.0 0.0 0.0 37.0 67000.0]]\n"
     ]
    }
   ],
   "source": [
    "print(X)"
   ]
  },
  {
   "cell_type": "markdown",
   "id": "b9a8b18abbdcee5e",
   "metadata": {
    "collapsed": false
   },
   "source": [
    "*Encoding the Dependent Variable*"
   ]
  },
  {
   "cell_type": "code",
   "execution_count": 9,
   "id": "46c563648c489a49",
   "metadata": {
    "collapsed": false,
    "ExecuteTime": {
     "end_time": "2024-02-14T15:17:02.476418500Z",
     "start_time": "2024-02-14T15:17:02.428951900Z"
    }
   },
   "outputs": [],
   "source": [
    "from sklearn.preprocessing import LabelEncoder\n",
    "\n",
    "# create an obj of LabelEncoder, which takes no arguments\n",
    "le = LabelEncoder()\n",
    "\n",
    "# calling the fit_transform() method on le and passing dependent variable y\n",
    "# we don't need to convert it to numpy array either\n",
    "y = le.fit_transform(y)"
   ]
  },
  {
   "cell_type": "code",
   "execution_count": 10,
   "id": "55cf312dd2805e5e",
   "metadata": {
    "collapsed": false,
    "ExecuteTime": {
     "end_time": "2024-02-14T15:17:02.493246100Z",
     "start_time": "2024-02-14T15:17:02.437518500Z"
    }
   },
   "outputs": [
    {
     "name": "stdout",
     "output_type": "stream",
     "text": [
      "[0 1 0 0 1 1 0 1 0 1]\n"
     ]
    }
   ],
   "source": [
    "print(y)"
   ]
  },
  {
   "cell_type": "markdown",
   "source": [
    "Splitting the dataset into the Training set and Test set"
   ],
   "metadata": {
    "collapsed": false
   },
   "id": "39bcba8b28609c01"
  },
  {
   "cell_type": "code",
   "outputs": [],
   "source": [
    "from sklearn.model_selection import train_test_split\n",
    "\n",
    "X_train, X_test, y_train, y_test = train_test_split(X, y, test_size=0.2, random_state=1)"
   ],
   "metadata": {
    "collapsed": false,
    "ExecuteTime": {
     "end_time": "2024-02-14T15:17:02.572094500Z",
     "start_time": "2024-02-14T15:17:02.447009900Z"
    }
   },
   "id": "c129de186dda9380",
   "execution_count": 11
  },
  {
   "cell_type": "code",
   "outputs": [
    {
     "name": "stdout",
     "output_type": "stream",
     "text": [
      "[[0.0 0.0 1.0 38.77777777777778 52000.0]\n",
      " [0.0 1.0 0.0 40.0 63777.77777777778]\n",
      " [1.0 0.0 0.0 44.0 72000.0]\n",
      " [0.0 0.0 1.0 38.0 61000.0]\n",
      " [0.0 0.0 1.0 27.0 48000.0]\n",
      " [1.0 0.0 0.0 48.0 79000.0]\n",
      " [0.0 1.0 0.0 50.0 83000.0]\n",
      " [1.0 0.0 0.0 35.0 58000.0]]\n"
     ]
    }
   ],
   "source": [
    "print(X_train)"
   ],
   "metadata": {
    "collapsed": false,
    "ExecuteTime": {
     "end_time": "2024-02-14T15:17:02.574166900Z",
     "start_time": "2024-02-14T15:17:02.462569900Z"
    }
   },
   "id": "e9ddd5a096fd2367",
   "execution_count": 12
  },
  {
   "cell_type": "code",
   "outputs": [
    {
     "name": "stdout",
     "output_type": "stream",
     "text": [
      "[[0.0 1.0 0.0 30.0 54000.0]\n",
      " [1.0 0.0 0.0 37.0 67000.0]]\n"
     ]
    }
   ],
   "source": [
    "print(X_test)"
   ],
   "metadata": {
    "collapsed": false,
    "ExecuteTime": {
     "end_time": "2024-02-14T15:17:02.576206100Z",
     "start_time": "2024-02-14T15:17:02.468600Z"
    }
   },
   "id": "a02d5f87c4e498ad",
   "execution_count": 13
  },
  {
   "cell_type": "code",
   "outputs": [
    {
     "name": "stdout",
     "output_type": "stream",
     "text": [
      "[0 1 0 0 1 1 0 1]\n"
     ]
    }
   ],
   "source": [
    "print(y_train)"
   ],
   "metadata": {
    "collapsed": false,
    "ExecuteTime": {
     "end_time": "2024-02-14T15:17:02.591263Z",
     "start_time": "2024-02-14T15:17:02.479398400Z"
    }
   },
   "id": "a25132228f3b3d27",
   "execution_count": 14
  },
  {
   "cell_type": "code",
   "outputs": [
    {
     "name": "stdout",
     "output_type": "stream",
     "text": [
      "[0 1]\n"
     ]
    }
   ],
   "source": [
    "print(y_test)"
   ],
   "metadata": {
    "collapsed": false,
    "ExecuteTime": {
     "end_time": "2024-02-14T15:17:02.592262100Z",
     "start_time": "2024-02-14T15:17:02.490230500Z"
    }
   },
   "id": "9f678ea8c9967f2d",
   "execution_count": 15
  }
 ],
 "metadata": {
  "kernelspec": {
   "display_name": "Python 3",
   "language": "python",
   "name": "python3"
  },
  "language_info": {
   "codemirror_mode": {
    "name": "ipython",
    "version": 2
   },
   "file_extension": ".py",
   "mimetype": "text/x-python",
   "name": "python",
   "nbconvert_exporter": "python",
   "pygments_lexer": "ipython2",
   "version": "2.7.6"
  }
 },
 "nbformat": 4,
 "nbformat_minor": 5
}
