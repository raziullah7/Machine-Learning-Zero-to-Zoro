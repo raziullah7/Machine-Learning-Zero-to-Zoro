{
 "cells": [
  {
   "cell_type": "markdown",
   "source": [
    "Import necessary libraries"
   ],
   "metadata": {
    "collapsed": false
   },
   "id": "b49f84b29706771a"
  },
  {
   "cell_type": "code",
   "outputs": [],
   "source": [
    "import pandas as pd\n",
    "import numpy as np\n",
    "import matplotlib.pyplot as plt\n",
    "from sklearn.model_selection import train_test_split\n",
    "from sklearn.preprocessing import StandardScaler"
   ],
   "metadata": {
    "collapsed": false,
    "ExecuteTime": {
     "end_time": "2024-02-14T17:48:02.967355800Z",
     "start_time": "2024-02-14T17:48:02.919927600Z"
    }
   },
   "id": "a1bb36e5cb7f64e9",
   "execution_count": 10
  },
  {
   "cell_type": "markdown",
   "source": [
    "Load the Wine Quality Red dataset"
   ],
   "metadata": {
    "collapsed": false
   },
   "id": "44000fa56f935f74"
  },
  {
   "cell_type": "code",
   "outputs": [],
   "source": [
    "dataset = pd.read_csv('winequality-red.csv', sep=';')"
   ],
   "metadata": {
    "collapsed": false,
    "ExecuteTime": {
     "end_time": "2024-02-14T17:48:02.987385600Z",
     "start_time": "2024-02-14T17:48:02.973125200Z"
    }
   },
   "id": "3bdb6e1f7197d415",
   "execution_count": 11
  },
  {
   "cell_type": "markdown",
   "source": [
    "Separate features and target"
   ],
   "metadata": {
    "collapsed": false
   },
   "id": "cad982847f68e5b4"
  },
  {
   "cell_type": "code",
   "outputs": [],
   "source": [
    "X = np.array(dataset.iloc[:, 0:11].values)\n",
    "y = np.array(dataset.iloc[:, -1].values)"
   ],
   "metadata": {
    "collapsed": false,
    "ExecuteTime": {
     "end_time": "2024-02-14T17:48:03.010192900Z",
     "start_time": "2024-02-14T17:48:02.994201600Z"
    }
   },
   "id": "ff8011e7210da933",
   "execution_count": 12
  },
  {
   "cell_type": "markdown",
   "source": [
    "Split the dataset into an 80-20 training-test set"
   ],
   "metadata": {
    "collapsed": false
   },
   "id": "1ca1eed4859f98e"
  },
  {
   "cell_type": "code",
   "outputs": [],
   "source": [
    "X_train, X_test, y_train, y_test = train_test_split(X, y, test_size=0.2, random_state=42)"
   ],
   "metadata": {
    "collapsed": false,
    "ExecuteTime": {
     "end_time": "2024-02-14T17:48:03.043519400Z",
     "start_time": "2024-02-14T17:48:03.001937900Z"
    }
   },
   "id": "6c83fc5434d2050e",
   "execution_count": 13
  },
  {
   "cell_type": "markdown",
   "source": [
    "Create an instance of the StandardScaler class"
   ],
   "metadata": {
    "collapsed": false
   },
   "id": "c5884779c8b01447"
  },
  {
   "cell_type": "code",
   "outputs": [],
   "source": [
    "sc = StandardScaler()"
   ],
   "metadata": {
    "collapsed": false,
    "ExecuteTime": {
     "end_time": "2024-02-14T17:48:03.045516600Z",
     "start_time": "2024-02-14T17:48:03.010192900Z"
    }
   },
   "id": "3ccf6b3edd266637",
   "execution_count": 14
  },
  {
   "cell_type": "markdown",
   "source": [
    "Fit the StandardScaler on the features from the training set and transform it"
   ],
   "metadata": {
    "collapsed": false
   },
   "id": "cf43f3c66c516e"
  },
  {
   "cell_type": "code",
   "outputs": [],
   "source": [
    "X_train = sc.fit_transform(X_train)"
   ],
   "metadata": {
    "collapsed": false,
    "ExecuteTime": {
     "end_time": "2024-02-14T17:48:03.046517Z",
     "start_time": "2024-02-14T17:48:03.020717900Z"
    }
   },
   "id": "803d999ca4218cc7",
   "execution_count": 15
  },
  {
   "cell_type": "markdown",
   "source": [
    "Apply the transform to the test set"
   ],
   "metadata": {
    "collapsed": false
   },
   "id": "98087feb06d3d1ef"
  },
  {
   "cell_type": "code",
   "outputs": [],
   "source": [
    "X_test = sc.transform(X_test)"
   ],
   "metadata": {
    "collapsed": false,
    "ExecuteTime": {
     "end_time": "2024-02-14T17:48:03.078438700Z",
     "start_time": "2024-02-14T17:48:03.053405400Z"
    }
   },
   "id": "c5d4ffdb61dd7c7c",
   "execution_count": 16
  },
  {
   "cell_type": "markdown",
   "source": [
    "Print the scaled training and test datasets"
   ],
   "metadata": {
    "collapsed": false
   },
   "id": "aeb20b4c856984c3"
  },
  {
   "cell_type": "code",
   "outputs": [
    {
     "name": "stdout",
     "output_type": "stream",
     "text": [
      "[[ 0.21833164  0.88971201  0.19209222 ...  1.09349989  0.45822284\n",
      "   1.12317723]\n",
      " [-1.29016623 -1.78878251  0.65275338 ... -0.40043872 -0.40119696\n",
      "   1.40827174]\n",
      " [ 1.49475291 -0.78434707  1.01104539 ... -0.07566946  0.51551749\n",
      "  -0.58738978]\n",
      " ...\n",
      " [-0.65195559  0.49909822 -1.08752211 ...  1.28836145 -0.68767023\n",
      "  -0.87248428]\n",
      " [-0.24582155 -1.84458448  0.39683051 ...  0.05423824  0.80199076\n",
      "   1.40827174]\n",
      " [-1.46422367 -1.34236676 -0.06383064 ...  0.50891521 -0.68767023\n",
      "   2.92877575]]\n"
     ]
    }
   ],
   "source": [
    "print(X_train)"
   ],
   "metadata": {
    "collapsed": false,
    "ExecuteTime": {
     "end_time": "2024-02-14T17:48:44.695891800Z",
     "start_time": "2024-02-14T17:48:44.689915600Z"
    }
   },
   "id": "5f3165dfab4e58b8",
   "execution_count": 19
  },
  {
   "cell_type": "code",
   "outputs": [
    {
     "name": "stdout",
     "output_type": "stream",
     "text": [
      "[[-3.61859850e-01  1.64286407e-01 -9.85152962e-01 ... -4.65392578e-01\n",
      "  -1.34389336e-04 -7.77452782e-01]\n",
      " [-3.03840702e-01 -1.70525408e-01 -5.24491803e-01 ...  5.08915214e-01\n",
      "  -1.03143815e+00 -8.72484283e-01]\n",
      " [ 1.37871461e+00  7.78108067e-01 -2.68568937e-01 ... -2.05577167e-01\n",
      "   1.83329452e+00 -4.92358280e-01]\n",
      " ...\n",
      " [-1.37449586e-02  3.87494284e-01 -1.15015218e-01 ... -1.04997725e+00\n",
      "  -7.44964886e-01 -5.87389780e-01]\n",
      " [ 2.76350785e-01 -1.45397070e+00  6.01568807e-01 ... -1.04997725e+00\n",
      "   1.71749571e-01  7.43051230e-01]\n",
      " [ 4.50408230e-01  1.30822677e+00 -1.18989125e+00 ... -1.40623314e-01\n",
      "  -6.87670232e-01 -6.82421281e-01]]\n"
     ]
    }
   ],
   "source": [
    "print(X_test)"
   ],
   "metadata": {
    "collapsed": false,
    "ExecuteTime": {
     "end_time": "2024-02-14T17:48:47.691842600Z",
     "start_time": "2024-02-14T17:48:47.684589300Z"
    }
   },
   "id": "562a66cfff842be2",
   "execution_count": 20
  }
 ],
 "metadata": {
  "kernelspec": {
   "display_name": "Python 3",
   "language": "python",
   "name": "python3"
  },
  "language_info": {
   "codemirror_mode": {
    "name": "ipython",
    "version": 2
   },
   "file_extension": ".py",
   "mimetype": "text/x-python",
   "name": "python",
   "nbconvert_exporter": "python",
   "pygments_lexer": "ipython2",
   "version": "2.7.6"
  }
 },
 "nbformat": 4,
 "nbformat_minor": 5
}
