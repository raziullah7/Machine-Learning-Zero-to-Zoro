{
 "cells": [
  {
   "cell_type": "markdown",
   "source": [
    "Import necessary libraries"
   ],
   "metadata": {
    "collapsed": false
   },
   "id": "b49f84b29706771a"
  },
  {
   "cell_type": "markdown",
   "source": [
    "Load the Wine Quality Red dataset"
   ],
   "metadata": {
    "collapsed": false
   },
   "id": "44000fa56f935f74"
  },
  {
   "cell_type": "markdown",
   "source": [
    "Separate features and target"
   ],
   "metadata": {
    "collapsed": false
   },
   "id": "cad982847f68e5b4"
  },
  {
   "cell_type": "markdown",
   "source": [
    "Split the dataset into an 80-20 training-test set"
   ],
   "metadata": {
    "collapsed": false
   },
   "id": "1ca1eed4859f98e"
  },
  {
   "cell_type": "markdown",
   "source": [
    "Create an instance of the StandardScaler class"
   ],
   "metadata": {
    "collapsed": false
   },
   "id": "c5884779c8b01447"
  },
  {
   "cell_type": "markdown",
   "source": [
    "Fit the StandardScaler on the features from the training set and transform it"
   ],
   "metadata": {
    "collapsed": false
   },
   "id": "cf43f3c66c516e"
  },
  {
   "cell_type": "markdown",
   "source": [
    "Apply the transform to the test set"
   ],
   "metadata": {
    "collapsed": false
   },
   "id": "98087feb06d3d1ef"
  },
  {
   "cell_type": "markdown",
   "source": [],
   "metadata": {
    "collapsed": false
   },
   "id": "aeb20b4c856984c3"
  }
 ],
 "metadata": {
  "kernelspec": {
   "display_name": "Python 3",
   "language": "python",
   "name": "python3"
  },
  "language_info": {
   "codemirror_mode": {
    "name": "ipython",
    "version": 2
   },
   "file_extension": ".py",
   "mimetype": "text/x-python",
   "name": "python",
   "nbconvert_exporter": "python",
   "pygments_lexer": "ipython2",
   "version": "2.7.6"
  }
 },
 "nbformat": 4,
 "nbformat_minor": 5
}
